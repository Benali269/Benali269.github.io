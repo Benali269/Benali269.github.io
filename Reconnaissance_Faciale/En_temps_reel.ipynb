{
 "cells": [
  {
   "cell_type": "markdown",
   "id": "137bdc3c-2aa0-47cb-97b0-b7e70fcb5799",
   "metadata": {},
   "source": [
    "## Important : cliquer sur le button \"Q\" pour fermer le webcam"
   ]
  },
  {
   "cell_type": "code",
   "execution_count": null,
   "id": "f5b8a434-413c-43c3-9090-c4443d904fd9",
   "metadata": {},
   "outputs": [],
   "source": []
  },
  {
   "cell_type": "code",
   "execution_count": 1,
   "id": "7d879501-e1c7-4347-90e6-5f85aa686498",
   "metadata": {},
   "outputs": [
    {
     "name": "stdout",
     "output_type": "stream",
     "text": [
      "WARNING:tensorflow:From C:\\Users\\Pc\\AppData\\Roaming\\Python\\Python312\\site-packages\\keras\\src\\backend\\tensorflow\\core.py:188: The name tf.placeholder is deprecated. Please use tf.compat.v1.placeholder instead.\n",
      "\n",
      "\u001b[1m1/1\u001b[0m \u001b[32m━━━━━━━━━━━━━━━━━━━━\u001b[0m\u001b[37m\u001b[0m \u001b[1m4s\u001b[0m 4s/step\n",
      "\u001b[1m1/1\u001b[0m \u001b[32m━━━━━━━━━━━━━━━━━━━━\u001b[0m\u001b[37m\u001b[0m \u001b[1m0s\u001b[0m 75ms/step\n",
      "\u001b[1m1/1\u001b[0m \u001b[32m━━━━━━━━━━━━━━━━━━━━\u001b[0m\u001b[37m\u001b[0m \u001b[1m0s\u001b[0m 91ms/step\n",
      "\u001b[1m1/1\u001b[0m \u001b[32m━━━━━━━━━━━━━━━━━━━━\u001b[0m\u001b[37m\u001b[0m \u001b[1m0s\u001b[0m 85ms/step\n",
      "\u001b[1m1/1\u001b[0m \u001b[32m━━━━━━━━━━━━━━━━━━━━\u001b[0m\u001b[37m\u001b[0m \u001b[1m0s\u001b[0m 91ms/step\n",
      "\u001b[1m1/1\u001b[0m \u001b[32m━━━━━━━━━━━━━━━━━━━━\u001b[0m\u001b[37m\u001b[0m \u001b[1m0s\u001b[0m 78ms/step\n",
      "\u001b[1m1/1\u001b[0m \u001b[32m━━━━━━━━━━━━━━━━━━━━\u001b[0m\u001b[37m\u001b[0m \u001b[1m0s\u001b[0m 89ms/step\n",
      "\u001b[1m1/1\u001b[0m \u001b[32m━━━━━━━━━━━━━━━━━━━━\u001b[0m\u001b[37m\u001b[0m \u001b[1m0s\u001b[0m 90ms/step\n",
      "\u001b[1m1/1\u001b[0m \u001b[32m━━━━━━━━━━━━━━━━━━━━\u001b[0m\u001b[37m\u001b[0m \u001b[1m0s\u001b[0m 94ms/step\n",
      "\u001b[1m1/1\u001b[0m \u001b[32m━━━━━━━━━━━━━━━━━━━━\u001b[0m\u001b[37m\u001b[0m \u001b[1m0s\u001b[0m 85ms/step\n",
      "\u001b[1m1/1\u001b[0m \u001b[32m━━━━━━━━━━━━━━━━━━━━\u001b[0m\u001b[37m\u001b[0m \u001b[1m0s\u001b[0m 77ms/step\n",
      "\u001b[1m1/1\u001b[0m \u001b[32m━━━━━━━━━━━━━━━━━━━━\u001b[0m\u001b[37m\u001b[0m \u001b[1m0s\u001b[0m 79ms/step\n",
      "\u001b[1m1/1\u001b[0m \u001b[32m━━━━━━━━━━━━━━━━━━━━\u001b[0m\u001b[37m\u001b[0m \u001b[1m0s\u001b[0m 96ms/step\n",
      "\u001b[1m1/1\u001b[0m \u001b[32m━━━━━━━━━━━━━━━━━━━━\u001b[0m\u001b[37m\u001b[0m \u001b[1m0s\u001b[0m 85ms/step\n",
      "\u001b[1m1/1\u001b[0m \u001b[32m━━━━━━━━━━━━━━━━━━━━\u001b[0m\u001b[37m\u001b[0m \u001b[1m0s\u001b[0m 116ms/step\n",
      "\u001b[1m1/1\u001b[0m \u001b[32m━━━━━━━━━━━━━━━━━━━━\u001b[0m\u001b[37m\u001b[0m \u001b[1m0s\u001b[0m 113ms/step\n",
      "\u001b[1m1/1\u001b[0m \u001b[32m━━━━━━━━━━━━━━━━━━━━\u001b[0m\u001b[37m\u001b[0m \u001b[1m0s\u001b[0m 98ms/step\n",
      "\u001b[1m1/1\u001b[0m \u001b[32m━━━━━━━━━━━━━━━━━━━━\u001b[0m\u001b[37m\u001b[0m \u001b[1m0s\u001b[0m 110ms/step\n",
      "\u001b[1m1/1\u001b[0m \u001b[32m━━━━━━━━━━━━━━━━━━━━\u001b[0m\u001b[37m\u001b[0m \u001b[1m0s\u001b[0m 100ms/step\n",
      "\u001b[1m1/1\u001b[0m \u001b[32m━━━━━━━━━━━━━━━━━━━━\u001b[0m\u001b[37m\u001b[0m \u001b[1m0s\u001b[0m 100ms/step\n",
      "\u001b[1m1/1\u001b[0m \u001b[32m━━━━━━━━━━━━━━━━━━━━\u001b[0m\u001b[37m\u001b[0m \u001b[1m0s\u001b[0m 100ms/step\n",
      "\u001b[1m1/1\u001b[0m \u001b[32m━━━━━━━━━━━━━━━━━━━━\u001b[0m\u001b[37m\u001b[0m \u001b[1m0s\u001b[0m 100ms/step\n"
     ]
    }
   ],
   "source": [
    "import cv2 \n",
    "import numpy as np\n",
    "from sklearn.preprocessing import LabelEncoder \n",
    "import pickle\n",
    "from keras_facenet import FaceNet \n",
    "\n",
    "#INITIALIZE\n",
    "facenet = FaceNet()\n",
    "encoder = LabelEncoder()\n",
    "\n",
    "faces_embeddings = np.load(\"faces_embeddings_4classes.npz\") \n",
    "X_train = faces_embeddings['arr_0'] # les caracteristique\n",
    "Y_train = faces_embeddings['arr_1'] # les etiquette\n",
    "\n",
    "encoder.fit(Y_train)\n",
    "Y_train = encoder.transform(Y_train) \n",
    "\n",
    "model = pickle.load(open(\"svm_model_160x160.pkl\", 'rb')) \n",
    "model.fit(X_train, Y_train) \n",
    "\n",
    "haarcascade = cv2.CascadeClassifier(\"haarcascade_frontalface_default.xml\") \n",
    "cap = cv2.VideoCapture(0) \n",
    "\n",
    "while True:  #cap.isOpened():\n",
    "    _, frame = cap.read()\n",
    "    rgb_img = cv2.cvtColor(frame, cv2.COLOR_BGR2RGB)\n",
    "    gray_img = cv2.cvtColor(frame, cv2.COLOR_BGR2GRAY)\n",
    "    faces = haarcascade.detectMultiScale(gray_img, 1.3, 5)\n",
    "    for x,y,w,h in faces:\n",
    "        img = rgb_img[y:y+h, x:x+w]\n",
    "        img = cv2.resize(img, (160,160)) # 1x160x160x3\n",
    "        img = np.expand_dims(img,axis=0)\n",
    "        ypred = facenet.embeddings(img)\n",
    "        face_name = model.predict(ypred)\n",
    "        final_name = encoder.inverse_transform(face_name)[0]\n",
    "        \n",
    "        prob = model.predict_proba(ypred)\n",
    "\n",
    "        if round(prob.max(),2) < 0.50: \n",
    "            nom = \"Inconnu\"\n",
    "        else:\n",
    "            nom = final_name\n",
    "        \n",
    "        cv2.rectangle(frame, (x,y), (x+w,y+h), (0,255,255), 2) \n",
    "        cv2.putText(frame, str(nom), (x,y-10), cv2.FONT_HERSHEY_TRIPLEX,1, (0,100,255), 1)\n",
    "\n",
    "    cv2.imshow(\"Face Recognition:\", frame) \n",
    "    if cv2.waitKey(1) == ord('q'):  \n",
    "        break # Appuis sur le bouton \"q\" pour sortir de boucle (Fermer le webcam) \n",
    "\n",
    "cap.release() \n",
    "cv2.destroyAllWindows() "
   ]
  },
  {
   "cell_type": "code",
   "execution_count": null,
   "id": "182f7a6b-c44b-48f1-b8e7-77031fa20dd8",
   "metadata": {},
   "outputs": [],
   "source": []
  },
  {
   "cell_type": "code",
   "execution_count": null,
   "id": "11a9270f-013d-4553-97c5-ae5d736e1082",
   "metadata": {},
   "outputs": [],
   "source": []
  },
  {
   "cell_type": "code",
   "execution_count": null,
   "id": "694cfbc8-7646-4a06-896f-90ed3d6ddc5f",
   "metadata": {},
   "outputs": [],
   "source": []
  }
 ],
 "metadata": {
  "kernelspec": {
   "display_name": "Python 3 (ipykernel)",
   "language": "python",
   "name": "python3"
  },
  "language_info": {
   "codemirror_mode": {
    "name": "ipython",
    "version": 3
   },
   "file_extension": ".py",
   "mimetype": "text/x-python",
   "name": "python",
   "nbconvert_exporter": "python",
   "pygments_lexer": "ipython3",
   "version": "3.12.2"
  }
 },
 "nbformat": 4,
 "nbformat_minor": 5
}
